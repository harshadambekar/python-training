{
 "cells": [
  {
   "cell_type": "code",
   "execution_count": 4,
   "metadata": {},
   "outputs": [
    {
     "name": "stdout",
     "output_type": "stream",
     "text": [
      "2016-04-15 08:27:18-05:00\n",
      "2016-04-15 08:27:18-05:00\n"
     ]
    }
   ],
   "source": [
    "import datetime \n",
    "dt = datetime.datetime.strptime(\"2016-04-15T08:27:18-0500\", \"%Y-%m-%dT%H:%M:%S%z\")\n",
    "\n",
    "print(dt)\n",
    "\n",
    "import dateutil.parser \n",
    "\n",
    "dt = dateutil.parser.parse(\"2016-04-15T08:27:18-0500\")\n",
    "\n",
    "print(dt)"
   ]
  },
  {
   "cell_type": "code",
   "execution_count": 14,
   "metadata": {},
   "outputs": [
    {
     "name": "stdout",
     "output_type": "stream",
     "text": [
      "UTC+09:00\n",
      "2015-01-01 12:00:00+09:00\n",
      "UTC+09:00\n",
      "<built-in method tzname of datetime.datetime object at 0x000001F3AE5C3090>\n"
     ]
    }
   ],
   "source": [
    "from datetime import datetime, timedelta, timezone \n",
    "\n",
    "JST = timezone(timedelta(hours=+9))\n",
    "\n",
    "print(JST)\n",
    "\n",
    "dt = datetime(2015, 1, 1, 12, 0, 0, tzinfo=JST) \n",
    "\n",
    "print(dt)\n",
    "\n",
    "print(dt.tzname())\n",
    "\n",
    "dt = datetime(2015, 1, 1, 12, 0, 0, tzinfo=timezone(timedelta(hours=9), 'JST')) \n",
    "\n",
    "print(dt.tzname) "
   ]
  },
  {
   "cell_type": "code",
   "execution_count": 16,
   "metadata": {},
   "outputs": [
    {
     "name": "stdout",
     "output_type": "stream",
     "text": [
      "2015-01-01 12:00:00+05:30\n",
      "2015-01-01 12:00:00-08:00\n",
      "2015-07-01 12:00:00-07:00\n"
     ]
    }
   ],
   "source": [
    "#Zones with daylight savings time\n",
    "\n",
    "from datetime import datetime \n",
    "from dateutil import tz \n",
    "\n",
    "local = tz.gettz() # Local time \n",
    "PT = tz.gettz('US/Pacific') # Pacific tim\n",
    "\n",
    "dt_l = datetime(2015, 1, 1, 12, tzinfo=local) # I am in EST \n",
    "dt_pst = datetime(2015, 1, 1, 12, tzinfo=PT) \n",
    "dt_pdt = datetime(2015, 7, 1, 12, tzinfo=PT) # DST is handled automatically \n",
    "print(dt_l) # 2015-01-01 12:00:00-05:00 \n",
    "print(dt_pst) # 2015-01-01 12:00:00-08:00 \n",
    "print(dt_pdt) # 2015-07-01 12:00:00-07:00\n"
   ]
  }
 ],
 "metadata": {
  "kernelspec": {
   "display_name": "Python 3",
   "language": "python",
   "name": "python3"
  },
  "language_info": {
   "codemirror_mode": {
    "name": "ipython",
    "version": 3
   },
   "file_extension": ".py",
   "mimetype": "text/x-python",
   "name": "python",
   "nbconvert_exporter": "python",
   "pygments_lexer": "ipython3",
   "version": "3.7.3"
  }
 },
 "nbformat": 4,
 "nbformat_minor": 2
}
